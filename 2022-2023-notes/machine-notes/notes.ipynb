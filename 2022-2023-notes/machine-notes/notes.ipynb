{
 "cells": [
  {
   "cell_type": "markdown",
   "metadata": {},
   "source": [
    "Course Machine Learning 323 \n",
    "\n",
    "Office Hours\n",
    "Boiler 025 1 hour before class\n",
    "Email: morehead@gonzaga.edu"
   ]
  },
  {
   "cell_type": "markdown",
   "metadata": {},
   "source": [
    "\n",
    "Machine learning: \n",
    "- computer-designated computation\n",
    "- finding patterns in data\n",
    "- using patterns to make predictions\n",
    "\n",
    "HW 1:\n",
    "- Notebook on google drive\n",
    "- load a skewed dataset\n",
    "- dumb predictor\n",
    "\n",
    "Information Theory (Claude Shannon):\n",
    "- $-Log[P(x)]$\n",
    "Suppose you get a 1 stating it is sunny in these locations\n",
    "\n",
    "- I<sub>Dubai</sub> = .000043 bits of info if it says it is sunny\n",
    "- I<sub>Seattle</sub> = 1.108 bits of info\n",
    "- I<sub>Rainforest</sub> = 6.64 bits of info\n"
   ]
  },
  {
   "cell_type": "markdown",
   "metadata": {},
   "source": [
    "Speech Recognition:\n",
    "- Google, deep learning\n",
    "- 96% accuracy\n",
    "- no tone/sarcasm detection\n",
    "\n",
    "##### Accuracy \n",
    "Accuracy = Correct / All\n",
    "\n",
    "TP = True positive, correct\n",
    "TN = True negative, identified as false correctly\n",
    "FP = Identified positive, is negative\n",
    "FN = Identified False is True\n",
    "\n",
    "##### Precision:\n",
    "of what you get back, how many are correct\n",
    "\n",
    "precision = correct/ all\n",
    "\n",
    "$$\\frac{TP}{TP + FP}$$\n",
    "\n",
    "##### Recall:\n",
    "of total positives, how many do you get back\n",
    "\n",
    "Recall = correct / correct and false negative \n",
    "\n",
    "$$\\frac{TP}{TP + FN}$$\n",
    "\n",
    "##### F1:\n",
    "\n",
    "$$F1 = \\frac{2}{Recall^(-1) + Precision^(-1)}$$\n",
    "\n",
    "\n",
    "##### Inverse Precision:\n",
    "$$\\frac {TN} {TN + FN}$$\n",
    "\n",
    "##### Inverse Recall:\n",
    "\n",
    "$$ \\frac {TN} {TN + FP}$$\n",
    "\n",
    "##### Confusion Matrix:\n",
    "\n",
    "|Total (12) | Cancer (8) | Non-Cancer(4)|\n",
    "|-----|--------|-----------|\n",
    "|Cancer (8) | 6     | 2 |\n",
    "| Non-Cancer(4)|1|3| "
   ]
  },
  {
   "cell_type": "markdown",
   "metadata": {},
   "source": [
    "Regression: returns a numerical value\n",
    "\n",
    "Classification: returns a classification prediction\n",
    "\n",
    "1. L1 = x + y\n",
    "1. L2 = $(x^2 + y^2)^1/2$\n",
    "1. L3 = $(x^3 + x^3)^1/3$\n",
    "\n",
    "Cosine similarity is the theta between two vectors on a graph\n",
    "\n",
    "\n",
    "##### Linear Regression\n",
    "- Assumes a linear relationship\n",
    "- optimizes by minimizing error squared\n",
    "    - punishes outliers more\n",
    "- hyper-planes are used for 4 dimensions\n",
    "- need to find optimal m,b values\n",
    "    - for point (1,2) $(1m+b-2)^2$\n",
    "95m + 19b = 138\n",
    "19m + 5b = 28\n",
    "\n",
    "\n"
   ]
  },
  {
   "cell_type": "markdown",
   "metadata": {},
   "source": [
    "###### Class Notes Sept 13:\n",
    "* Take data and divide it into test and train\n",
    "* Fit the line\n",
    "* AVG err^2 on test and train\n",
    "* Set a threshold\n",
    "\n",
    "\n",
    "- Heuristic = the guess, needs to determine if it is a dead-end after you start to take it \n",
    "    * Admissable = never overestimates\n",
    "A* = best first, concurrently calculates euclidean distance from point A,B whilst marking walls\n",
    "f(n) = g(n) + h(n)\n",
    "    * g(n) how much you have gone\n",
    "    * h(n) how much you may have to go, heuristic\n",
    "Laxing admissability allows for a much faster calculation, just not usually optimal path\n",
    "\n",
    "Informedness = for any two A* heuristics ha,hb\n",
    "    * ha(n) <= hb(n), hb(n) is more informed\n",
    "\n",
    "Theorem Prover: sound inference based on set axioms\n",
    "\n",
    "\n"
   ]
  },
  {
   "cell_type": "markdown",
   "metadata": {},
   "source": [
    "Blocks World Notes:\n",
    "* State has key, maps a key to a value efficiently\n",
    "    * add str() to store the current game state\n",
    "\n",
    "Nash equilibrium - The only sqaure in the matrix with no pressure to go to another square for their own self interest.\n",
    "\n",
    "Infinite game = Omerta\n",
    "Adversarial vs nonadversarial, depends upon agency/free will of opponent.\n",
    "\n",
    "NIM: \n",
    "4 heaps, 1 3 5 7\n",
    "\n",
    "each turn\n",
    "* can only take from one heap\n",
    "* must take at least one\n"
   ]
  },
  {
   "cell_type": "markdown",
   "metadata": {},
   "source": [
    "A*\n",
    "* h(n) where n is a node = heuristic\n",
    "* g(n) = cost so far\n",
    "* tracks units already used/'cost'\n",
    "    - Always choose least g+h from the unexpanded node set\n",
    "* hash value = (g,h) \n",
    "\n"
   ]
  },
  {
   "cell_type": "markdown",
   "metadata": {},
   "source": [
    "* C = Regularization parameter\n",
    "    * Used for generalzing our classifier\n",
    "* ||Z|| refers to size/cardinality\n",
    "* Centroid = center of mass\n",
    "* HDBSCAN is best\n"
   ]
  }
 ],
 "metadata": {
  "kernelspec": {
   "display_name": "Python 3.9.8 64-bit",
   "language": "python",
   "name": "python3"
  },
  "language_info": {
   "name": "python",
   "version": "3.9.8"
  },
  "orig_nbformat": 4,
  "vscode": {
   "interpreter": {
    "hash": "f22a20af907fde35ff19e1e892fdb271353fb19b11c7ebd774491472e685293c"
   }
  }
 },
 "nbformat": 4,
 "nbformat_minor": 2
}
