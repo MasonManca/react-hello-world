{
 "cells": [
  {
   "cell_type": "markdown",
   "metadata": {},
   "source": [
    "##### Mason Manca\n",
    "##### CPSC 323\n",
    "##### Prof. Morehead\n",
    "##### 22 September 2022\n",
    "<h3><center> Project 3: positions World</center></h3>"
   ]
  },
  {
   "cell_type": "code",
   "execution_count": 148,
   "metadata": {},
   "outputs": [],
   "source": [
    "# Cell for import statements\n",
    "import random\n",
    "import time"
   ]
  },
  {
   "cell_type": "code",
   "execution_count": 149,
   "metadata": {},
   "outputs": [],
   "source": [
    "# Initializes first game state\n",
    "def generate_positions(positions):\n",
    "   num_list = [1,2,3,4,5,6,7,8]\n",
    "   random.shuffle(num_list) # mixes the numbers within the list\n",
    "   for i in range(0, len(num_list)):\n",
    "      positions.append([])\n",
    "   for i in range(0, len(num_list)):\n",
    "      index = random.randint(0, len(positions) - 1)\n",
    "      positions[index].append(num_list[i])\n",
    "   return positions\n",
    "# moves block 1 space right or left\n",
    "def move(positions, block_to_move, leftOrRight):\n",
    "   index = -1\n",
    "   for i in range(0, len(positions)):\n",
    "      if (block_to_move in positions[i]):\n",
    "         index = i\n",
    "         break\n",
    "      \n",
    "   prev_hash = hash_state(positions)\n",
    "   if (index + leftOrRight >= 0 and index + leftOrRight < len(positions) and block_to_move not in positions[index + leftOrRight]):\n",
    "      positions[index].remove(block_to_move)\n",
    "      positions[index + leftOrRight].append(block_to_move)\n",
    "      new_hash = hash_state(positions)\n",
    "      if (new_hash == prev_hash):\n",
    "         # undo the move\n",
    "         positions[index + leftOrRight].remove(block_to_move)\n",
    "         positions[index].append(block_to_move)\n",
    "# prints the current field\n",
    "def print_current_field(positions):\n",
    "   for i in range(0, len(positions)):\n",
    "      print(\"space\",i,'|',end= \"\" )\n",
    "      for j in range(0, len(positions[i])):\n",
    "         print(positions[i][j], end= \" \")\n",
    "      print(\"|\")\n",
    "   print(\"\")\n",
    "# Determines if list is sorted, going through field and each respective set\n",
    "def sorted(positions):\n",
    "   for i in range(0, len(positions)):\n",
    "      for j in range(0, len(positions[i])):\n",
    "         if (positions[i][j] != j + 1):\n",
    "            return False\n",
    "\n",
    "   print_current_field(positions) # Prints final solved game state\n",
    "   return True\n",
    "\n",
    "# This function stores previous gamestates so we do not go to 'parent nodes' previously repeated\n",
    "def hash_state(positions): \n",
    "   hash = \"\"\n",
    "   for i in range(0, len(positions)):\n",
    "      for j in range(0, len(positions[i])):\n",
    "         hash += str(positions[i][j])\n",
    "   return hash\n",
    "\n"
   ]
  },
  {
   "cell_type": "code",
   "execution_count": 150,
   "metadata": {},
   "outputs": [
    {
     "name": "stdout",
     "output_type": "stream",
     "text": [
      "space 0 |6 |\n",
      "space 1 ||\n",
      "space 2 |8 |\n",
      "space 3 |4 |\n",
      "space 4 ||\n",
      "space 5 |3 5 |\n",
      "space 6 |1 |\n",
      "space 7 |7 2 |\n",
      "\n",
      "space 0 ||\n",
      "space 1 ||\n",
      "space 2 ||\n",
      "space 3 ||\n",
      "space 4 ||\n",
      "space 5 ||\n",
      "space 6 ||\n",
      "space 7 |1 2 3 4 5 6 7 8 |\n",
      "\n",
      "Time to execute:  4050.3168070316315\n",
      "Number of steps taken:  133370473\n"
     ]
    }
   ],
   "source": [
    "def main():\n",
    "    positions = []\n",
    "    positions = generate_positions(positions)\n",
    "    print_current_field(positions)\n",
    "    numMoves = 0\n",
    "    startTime = time.time()\n",
    "    while not sorted(positions):\n",
    "        numMoves += 1\n",
    "        block_to_move = random.randint(1, 8) # 8 for this attempt    \n",
    "        leftOrRight = random.choice([-1, 1]) # This is for the constrain of only being able to move left or right by 1\n",
    "        move(positions, block_to_move, leftOrRight)\n",
    "        \n",
    "    endTime = time.time()\n",
    "    \n",
    "    # Print results\n",
    "    print(\"Time to execute: \", endTime - startTime)\n",
    "    print(\"Number of steps taken: \", numMoves)\n",
    "    \n",
    "    \n",
    "main()\n"
   ]
  },
  {
   "cell_type": "markdown",
   "metadata": {},
   "source": [
    "#### Note\n",
    "Attempted to run with 9 blocks, waited for 6 hours with no success. Currently running with 8 at 11:50 of the due date, if it does not finish in time will leave overnight and will repost with finished game state. Also had to stop running program to write this markdown cell, had been running for an hour."
   ]
  }
 ],
 "metadata": {
  "kernelspec": {
   "display_name": "Python 3.9.12 ('base')",
   "language": "python",
   "name": "python3"
  },
  "language_info": {
   "codemirror_mode": {
    "name": "ipython",
    "version": 3
   },
   "file_extension": ".py",
   "mimetype": "text/x-python",
   "name": "python",
   "nbconvert_exporter": "python",
   "pygments_lexer": "ipython3",
   "version": "3.9.12"
  },
  "orig_nbformat": 4,
  "vscode": {
   "interpreter": {
    "hash": "cd78fef2128015050713e82ca51c6520b11aee7c9ee8df750520bbbc7384cbaa"
   }
  }
 },
 "nbformat": 4,
 "nbformat_minor": 2
}
