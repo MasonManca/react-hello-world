{
 "cells": [
  {
   "cell_type": "markdown",
   "metadata": {},
   "source": [
    "<h1 align= 'center'>Project: Logistic Regression</h1>\n",
    "<h5>Mason Manca </h5>\n",
    "<h5>CPSC 323 01 </h5>\n",
    "<h5>Dr.Morehead </h5>\n",
    "<h5>6 October 2022 </h5>\n"
   ]
  },
  {
   "cell_type": "code",
   "execution_count": 183,
   "metadata": {},
   "outputs": [],
   "source": [
    "# import Cell\n",
    "import pandas as pd\n",
    "import time as tm\n",
    "import numpy as np\n",
    "from sklearn.model_selection import train_test_split\n",
    "from sklearn.linear_model import LogisticRegression\n",
    "from sklearn.metrics import confusion_matrix\n",
    "import seaborn as sns\n",
    "import matplotlib.pyplot as plt\n",
    "from sklearn.metrics import f1_score\n",
    "from sklearn.metrics import accuracy_score\n",
    "from sklearn import metrics\n"
   ]
  },
  {
   "cell_type": "code",
   "execution_count": 184,
   "metadata": {},
   "outputs": [],
   "source": [
    "class Model():\n",
    "    def __init__(self):\n",
    "        # Declare variables\n",
    "        self.X_train = self.y_train = self.X_test = self.y_test = self.df_binary = []\n",
    "        self.timeOfModel = 0\n",
    "        self.y_pred = 0\n",
    "        self.predictios = []\n",
    "        self.X = self.y = 0\n",
    "    \n",
    "    def split_into_sets(self,df):\n",
    "        # split into test/train data after preparing dataset\n",
    "        df.dropna(inplace = True)\n",
    "        df.corr()\n",
    "        # Separating the data into independent and dependent variables\n",
    "        # Converting each dataframe into a numpy array \n",
    "        self.X = np.array(df['glucose']).reshape(-1,1)\n",
    "        self.y = df['diabetes']\n",
    "        \n",
    "        \n",
    "        self.X_train, self.X_test, self.y_train, self.y_test = train_test_split(self.X, self.y, test_size = 0.8) # 80% Test size\n",
    "    \n",
    "    def test(self, df):\n",
    "       \n",
    "        # Splitting the data into training and testing data\n",
    "        log_regr = LogisticRegression(C=1)   \n",
    "        log_regr.fit(self.X_train, self.y_train)\n",
    "        \n",
    "        # Begin testing of data\n",
    "        t0 = tm.time() # Start of the clock to determine performance\n",
    "        self.y_pred = log_regr.predict(self.X_test)\n",
    "        self.timeOfModel = tm.time() - t0 # Calculation of performance speed\n",
    "        \n",
    "        print(\"Testing Logistic Regression model\")\n",
    "        print(\"coefficient of determination score: \", log_regr.score(self.X_test, self.y_test))\n",
    "        \n",
    "    def analysis(self):\n",
    "        # Compute analytics\n",
    "        print(\"Accuracy of model: \", round(accuracy_score(self.y_test,self.y_pred),3))\n",
    "        print(\"F1 Score: \", round(f1_score(self.y_test,self.y_pred),4))\n",
    "        print(\"Speed of Model (s): \", round(self.timeOfModel,6))\n",
    "        print(\"Confusion Matrix: \\n\")\n",
    "        \n",
    "        matrix = metrics.confusion_matrix(self.y_test, self.y_pred, labels=[0, 1])\n",
    "        display = metrics.ConfusionMatrixDisplay(confusion_matrix = matrix, display_labels = [\"No diabetes\", \"Diabetes\"])\n",
    "        with plt.rc_context({'figure.facecolor':'white'}):\n",
    "            display.plot()\n",
    "            plt.show()\n"
   ]
  },
  {
   "cell_type": "code",
   "execution_count": 185,
   "metadata": {},
   "outputs": [
    {
     "name": "stdout",
     "output_type": "stream",
     "text": [
      "Testing Logistic Regression model\n",
      "coefficient of determination score:  0.9839316239316239\n"
     ]
    }
   ],
   "source": [
    "# Cell for output of data and time calculation\n",
    "model = Model()\n",
    "\n",
    "df = pd.read_csv('framingham.csv') # read in input data\n",
    "\n",
    "model.split_into_sets(df) # test train \n",
    "model.test(df) # compute results \n"
   ]
  },
  {
   "cell_type": "markdown",
   "metadata": {},
   "source": [
    "As we can see, the model is quite accurate with an accuracy_score of 98.5% and a f1_score of 65.6%. The logistic regression model was a great fit for this set of data, and is quite generalizable given the regularization parameter being 1."
   ]
  },
  {
   "cell_type": "code",
   "execution_count": 186,
   "metadata": {},
   "outputs": [
    {
     "name": "stdout",
     "output_type": "stream",
     "text": [
      "Accuracy of model:  0.984\n",
      "F1 Score:  0.6116\n",
      "Speed of Model (s):  0.000101\n",
      "Confusion Matrix: \n",
      "\n"
     ]
    },
    {
     "data": {
      "image/png": "[encoded data removed]",
      "text/plain": [
       "<Figure size 432x288 with 2 Axes>"
      ]
     },
     "metadata": {},
     "output_type": "display_data"
    }
   ],
   "source": [
    "model.analysis()\n"
   ]
  }
 ],
 "metadata": {
  "kernelspec": {
   "display_name": "Python 3.9.12 ('base')",
   "language": "python",
   "name": "python3"
  },
  "language_info": {
   "codemirror_mode": {
    "name": "ipython",
    "version": 3
   },
   "file_extension": ".py",
   "mimetype": "text/x-python",
   "name": "python",
   "nbconvert_exporter": "python",
   "pygments_lexer": "ipython3",
   "version": "3.9.12"
  },
  "orig_nbformat": 4,
  "vscode": {
   "interpreter": {
    "hash": "cd78fef2128015050713e82ca51c6520b11aee7c9ee8df750520bbbc7384cbaa"
   }
  }
 },
 "nbformat": 4,
 "nbformat_minor": 2
}
